{
  "nbformat": 4,
  "nbformat_minor": 0,
  "metadata": {
    "colab": {
      "name": "Validate_train_test_data.ipynb",
      "provenance": [],
      "collapsed_sections": [],
      "authorship_tag": "ABX9TyN4XfypXBMzLCmUqpjnhxjK",
      "include_colab_link": true
    },
    "kernelspec": {
      "name": "python3",
      "display_name": "Python 3"
    },
    "language_info": {
      "name": "python"
    }
  },
  "cells": [
    {
      "cell_type": "markdown",
      "metadata": {
        "id": "view-in-github",
        "colab_type": "text"
      },
      "source": [
        "<a href=\"https://colab.research.google.com/github/bedhinesh/capstone-aiml/blob/dhinesh/Validate_train_test_data.ipynb\" target=\"_parent\"><img src=\"https://colab.research.google.com/assets/colab-badge.svg\" alt=\"Open In Colab\"/></a>"
      ]
    },
    {
      "cell_type": "code",
      "metadata": {
        "id": "wF88SnVbn3St"
      },
      "source": [
        "#Import Libraries\n",
        "# Ignore the warnings\n",
        "import warnings\n",
        "warnings.filterwarnings(\"ignore\")\n",
        "\n",
        "# Initialize the random number generator\n",
        "import random\n",
        "random.seed(0)\n",
        "\n",
        "#Tensor Flow\n",
        "import tensorflow\n",
        "tensorflow.__version__\n",
        "\n",
        "#Matplot\n",
        "import matplotlib.pyplot as plt\n",
        "import matplotlib.patches as patches\n",
        "import seaborn as sns\n",
        "%matplotlib inline\n",
        "\n",
        "#Importing drive\n",
        "from google.colab import drive\n",
        "#OS\n",
        "import os\n",
        "#Numpy\n",
        "import numpy as np\n",
        "# save numpy array as npz file\n",
        "from numpy import asarray\n",
        "from numpy import savez_compressed\n",
        "#Pandas\n",
        "import pandas as pd\n",
        "pd.set_option('display.max_columns', None)\n",
        "pd.set_option('display.max_colwidth', None)\n",
        "pd.set_option('display.max_rows', None)\n",
        "from wordcloud import WordCloud\n",
        "\n",
        "#CV2\n",
        "import cv2\n",
        "\n",
        "#Image data Generator\n",
        "from tensorflow.keras.preprocessing.image import ImageDataGenerator\n",
        "\n",
        "import imgaug as ia\n",
        "from imgaug import augmenters as iaa\n",
        "from imgaug.augmentables.bbs import BoundingBox, BoundingBoxesOnImage"
      ],
      "execution_count": 90,
      "outputs": []
    },
    {
      "cell_type": "code",
      "metadata": {
        "colab": {
          "base_uri": "https://localhost:8080/"
        },
        "id": "7Vr2EN6xn9zt",
        "outputId": "dfc56363-3b9e-440a-aed5-3c3911b71a55"
      },
      "source": [
        "#Mount Drive\n",
        "drive.mount('/content/gdrive')"
      ],
      "execution_count": 3,
      "outputs": [
        {
          "output_type": "stream",
          "text": [
            "Mounted at /content/gdrive\n"
          ],
          "name": "stdout"
        }
      ]
    },
    {
      "cell_type": "code",
      "metadata": {
        "colab": {
          "base_uri": "https://localhost:8080/"
        },
        "id": "LlEOCnogoFG9",
        "outputId": "49cacb11-be9c-475d-a54e-1685e87597f7"
      },
      "source": [
        "os.environ['KAGGLE_CONFIG_DIR'] = \"/content/gdrive/My Drive/kaggle\"\n",
        "project_path = '/content/drive/My Drive/kaggle/'\n",
        "%cd /content/gdrive/My Drive/kaggle"
      ],
      "execution_count": 5,
      "outputs": [
        {
          "output_type": "stream",
          "text": [
            "/content/gdrive/My Drive/kaggle\n"
          ],
          "name": "stdout"
        }
      ]
    },
    {
      "cell_type": "code",
      "metadata": {
        "colab": {
          "base_uri": "https://localhost:8080/"
        },
        "id": "DcaDyt-5n410",
        "outputId": "0c92be3d-6879-4128-b0c9-90c387700cf8"
      },
      "source": [
        "pip install wget"
      ],
      "execution_count": 6,
      "outputs": [
        {
          "output_type": "stream",
          "text": [
            "Collecting wget\n",
            "  Downloading https://files.pythonhosted.org/packages/47/6a/62e288da7bcda82b935ff0c6cfe542970f04e29c756b0e147251b2fb251f/wget-3.2.zip\n",
            "Building wheels for collected packages: wget\n",
            "  Building wheel for wget (setup.py) ... \u001b[?25l\u001b[?25hdone\n",
            "  Created wheel for wget: filename=wget-3.2-cp37-none-any.whl size=9681 sha256=044b42bccb9b1c77afaa497bd1e64be9c735d03c796d1207f8469cab680e8524\n",
            "  Stored in directory: /root/.cache/pip/wheels/40/15/30/7d8f7cea2902b4db79e3fea550d7d7b85ecb27ef992b618f3f\n",
            "Successfully built wget\n",
            "Installing collected packages: wget\n",
            "Successfully installed wget-3.2\n"
          ],
          "name": "stdout"
        }
      ]
    },
    {
      "cell_type": "code",
      "metadata": {
        "colab": {
          "base_uri": "https://localhost:8080/",
          "height": 52
        },
        "id": "nBY0fZeVngvK",
        "outputId": "f6610b92-f1b7-4cf6-e53a-8d89844e18d5"
      },
      "source": [
        "import wget\n",
        "print('Beginning to download vgg h5 file')\n",
        "\n",
        "url = 'https://github.com/fchollet/deep-learning-models/releases/download/v0.1/vgg16_weights_tf_dim_ordering_tf_kernels.h5'\n",
        "wget.download(url, 'vgg16_weights_tf_dim_ordering_tf_kernels.h5')"
      ],
      "execution_count": 16,
      "outputs": [
        {
          "output_type": "stream",
          "text": [
            "Beginning to download vgg h5 file\n"
          ],
          "name": "stdout"
        },
        {
          "output_type": "execute_result",
          "data": {
            "application/vnd.google.colaboratory.intrinsic+json": {
              "type": "string"
            },
            "text/plain": [
              "'vgg16_weights_tf_dim_ordering_tf_kernels.h5'"
            ]
          },
          "metadata": {
            "tags": []
          },
          "execution_count": 16
        }
      ]
    },
    {
      "cell_type": "code",
      "metadata": {
        "id": "hRzD4t9OoPLu"
      },
      "source": [
        "from keras.applications.vgg16 import preprocess_input\n",
        "from keras.applications.vgg16 import VGG16\n",
        "from keras.applications.vgg16 import decode_predictions\n",
        "def _get_predictions(_model,data):\n",
        "    img = np.expand_dims(data, axis=0)\n",
        "    #print('expanded image',img)\n",
        "    img = preprocess_input(img)\n",
        "    #print('processed image',img)      \n",
        "    return decode_predictions(_model.predict(img), top=3)[0]"
      ],
      "execution_count": 17,
      "outputs": []
    },
    {
      "cell_type": "code",
      "metadata": {
        "id": "RbwVak-5qcoG"
      },
      "source": [
        "vgg16_weights = 'vgg16_weights_tf_dim_ordering_tf_kernels.h5'\n",
        "vgg16_model = VGG16(weights=vgg16_weights)"
      ],
      "execution_count": 18,
      "outputs": []
    },
    {
      "cell_type": "code",
      "metadata": {
        "id": "VzGyc0YErJRt"
      },
      "source": [
        "class IdentityMetadata():\n",
        "    def __init__(self, base, name, file):\n",
        "        # print(base, name, file)\n",
        "        # dataset base directory\n",
        "        self.base = base\n",
        "        # identity name\n",
        "        self.name = name\n",
        "        # image file name\n",
        "        self.file = file\n",
        "\n",
        "\n",
        "    def __repr__(self):\n",
        "        return self.image_path()\n",
        "\n",
        "    def image_path(self):\n",
        "        return os.path.join(self.base, self.name, self.file) \n",
        "    \n",
        "def load_metadata(path):\n",
        "    metadata = []\n",
        "    for i in os.listdir(path):\n",
        "        for f in os.listdir(os.path.join(path, i)):\n",
        "            # Check file extension. Allow only jpg/jpeg' files.\n",
        "            ext = os.path.splitext(f)[1]\n",
        "            if ext == '.jpg' or ext == '.jpeg':\n",
        "                metadata.append(IdentityMetadata(path, i, f))\n",
        "    return np.array(metadata)\n",
        "\n",
        "def load_image(path):\n",
        "    img = cv2.imread(path, 1)\n",
        "    #img = cv2.cvtColor(img, cv2.COLOR_BGR2RGB)\n",
        "    return img[...,::-1]\n",
        "\n",
        "def extract_file_path(data):\n",
        "  dataEnriched = pd.DataFrame(data)\n",
        "  dataEnriched[1]=dataEnriched[0].apply(lambda x: x.image_path().rsplit(\"/\",1)[0])\n",
        "  dataEnriched[2]=dataEnriched[0].apply(lambda x: x.image_path().rsplit(\"/\",1)[1])\n",
        "  return dataEnriched\n",
        "\n",
        "def prepare_annotation_data(data,labels,metaData):\n",
        "  data[6]=labels[data[5]-1]\n",
        "  data[7]=data[6].apply(lambda x: x.rsplit(\" \",2)[0])\n",
        "  data[8]=data[6].apply(lambda x: x.rsplit(\" \",2)[1])\n",
        "  data[9]=data[6].apply(lambda x: x.rsplit(\" \",2)[2])\n",
        "  data[10]=data[6].apply(lambda x: x.rsplit(\" \",-1)[0])\n",
        "  pathData = []\n",
        "  for i in data[0]:\n",
        "    pathData.append((metaData.loc[metaData[2] == i][0].values)[0])\n",
        "  data[11] = pathData\n",
        "  return data\n",
        "\n",
        "def draw_count_plot(data,column):\n",
        "  sns.set_style('whitegrid')\n",
        "  a4_dims = (30, 10)\n",
        "  fig, ax = plt.subplots(figsize=a4_dims)\n",
        "  sns.countplot(ax=ax,x=column,data=data, palette='YlGnBu_r',order=data[column].value_counts().index)\n",
        "  plt.xticks(rotation = 90)\n",
        "  plt.show()\n",
        "def draw_word_cloud(data):\n",
        "  cloudText = ' '.join(data)\n",
        "  wordcloud = WordCloud().generate(cloudText)\n",
        "  a4_dims = (30, 10)\n",
        "  fig, ax = plt.subplots(figsize=a4_dims)\n",
        "  plt.imshow(wordcloud, interpolation=\"bilinear\")\n",
        "  plt.axis(\"off\")\n",
        "  plt.show()\n",
        "\n",
        " \n"
      ],
      "execution_count": 20,
      "outputs": []
    },
    {
      "cell_type": "code",
      "metadata": {
        "colab": {
          "base_uri": "https://localhost:8080/"
        },
        "id": "FPpi3Z4eshQo",
        "outputId": "2f6671ed-5f54-4870-b93a-0ca8c57aae61"
      },
      "source": [
        "# metadata = load_metadata('images')\n",
        "trainMetaData = load_metadata('car_data/car_data/train/')\n",
        "print(trainMetaData.shape)\n",
        " \n",
        "trainMetaDataEnriched=extract_file_path(trainMetaData)\n",
        "print(trainMetaDataEnriched.shape)\n",
        " "
      ],
      "execution_count": 21,
      "outputs": [
        {
          "output_type": "stream",
          "text": [
            "(8144,)\n",
            "(8144, 3)\n"
          ],
          "name": "stdout"
        }
      ]
    },
    {
      "cell_type": "code",
      "metadata": {
        "id": "LsQENV8ispCE"
      },
      "source": [
        "annotation_train_csv = pd.read_csv('anno_train.csv', header = None)\n",
        "annotation_test_csv = pd.read_csv('anno_test.csv', header = None)\n",
        "data_labels = np.array(pd.read_csv('names.csv',header = None))\n",
        "Train_data = annotation_train_csv.copy()\n",
        "test_data = annotation_test_csv.copy()"
      ],
      "execution_count": 23,
      "outputs": []
    },
    {
      "cell_type": "code",
      "metadata": {
        "colab": {
          "base_uri": "https://localhost:8080/",
          "height": 221
        },
        "id": "QKQEqRWrsuIE",
        "outputId": "2c69feb3-4740-4d60-dd6d-6bb1d1b60b16"
      },
      "source": [
        "Train_data = prepare_annotation_data(Train_data,data_labels,trainMetaDataEnriched)\n",
        "print(Train_data.shape)\n",
        "Train_data.head()\n"
      ],
      "execution_count": 24,
      "outputs": [
        {
          "output_type": "stream",
          "text": [
            "(8144, 12)\n"
          ],
          "name": "stdout"
        },
        {
          "output_type": "execute_result",
          "data": {
            "text/html": [
              "<div>\n",
              "<style scoped>\n",
              "    .dataframe tbody tr th:only-of-type {\n",
              "        vertical-align: middle;\n",
              "    }\n",
              "\n",
              "    .dataframe tbody tr th {\n",
              "        vertical-align: top;\n",
              "    }\n",
              "\n",
              "    .dataframe thead th {\n",
              "        text-align: right;\n",
              "    }\n",
              "</style>\n",
              "<table border=\"1\" class=\"dataframe\">\n",
              "  <thead>\n",
              "    <tr style=\"text-align: right;\">\n",
              "      <th></th>\n",
              "      <th>0</th>\n",
              "      <th>1</th>\n",
              "      <th>2</th>\n",
              "      <th>3</th>\n",
              "      <th>4</th>\n",
              "      <th>5</th>\n",
              "      <th>6</th>\n",
              "      <th>7</th>\n",
              "      <th>8</th>\n",
              "      <th>9</th>\n",
              "      <th>10</th>\n",
              "      <th>11</th>\n",
              "    </tr>\n",
              "  </thead>\n",
              "  <tbody>\n",
              "    <tr>\n",
              "      <th>0</th>\n",
              "      <td>00001.jpg</td>\n",
              "      <td>39</td>\n",
              "      <td>116</td>\n",
              "      <td>569</td>\n",
              "      <td>375</td>\n",
              "      <td>14</td>\n",
              "      <td>Audi TTS Coupe 2012</td>\n",
              "      <td>Audi TTS</td>\n",
              "      <td>Coupe</td>\n",
              "      <td>2012</td>\n",
              "      <td>Audi</td>\n",
              "      <td>car_data/car_data/train/Audi TTS Coupe 2012/00001.jpg</td>\n",
              "    </tr>\n",
              "    <tr>\n",
              "      <th>1</th>\n",
              "      <td>00002.jpg</td>\n",
              "      <td>36</td>\n",
              "      <td>116</td>\n",
              "      <td>868</td>\n",
              "      <td>587</td>\n",
              "      <td>3</td>\n",
              "      <td>Acura TL Sedan 2012</td>\n",
              "      <td>Acura TL</td>\n",
              "      <td>Sedan</td>\n",
              "      <td>2012</td>\n",
              "      <td>Acura</td>\n",
              "      <td>car_data/car_data/train/Acura TL Sedan 2012/00002.jpg</td>\n",
              "    </tr>\n",
              "    <tr>\n",
              "      <th>2</th>\n",
              "      <td>00003.jpg</td>\n",
              "      <td>85</td>\n",
              "      <td>109</td>\n",
              "      <td>601</td>\n",
              "      <td>381</td>\n",
              "      <td>91</td>\n",
              "      <td>Dodge Dakota Club Cab 2007</td>\n",
              "      <td>Dodge Dakota Club</td>\n",
              "      <td>Cab</td>\n",
              "      <td>2007</td>\n",
              "      <td>Dodge</td>\n",
              "      <td>car_data/car_data/train/Dodge Dakota Club Cab 2007/00003.jpg</td>\n",
              "    </tr>\n",
              "    <tr>\n",
              "      <th>3</th>\n",
              "      <td>00004.jpg</td>\n",
              "      <td>621</td>\n",
              "      <td>393</td>\n",
              "      <td>1484</td>\n",
              "      <td>1096</td>\n",
              "      <td>134</td>\n",
              "      <td>Hyundai Sonata Hybrid Sedan 2012</td>\n",
              "      <td>Hyundai Sonata Hybrid</td>\n",
              "      <td>Sedan</td>\n",
              "      <td>2012</td>\n",
              "      <td>Hyundai</td>\n",
              "      <td>car_data/car_data/train/Hyundai Sonata Hybrid Sedan 2012/00004.jpg</td>\n",
              "    </tr>\n",
              "    <tr>\n",
              "      <th>4</th>\n",
              "      <td>00005.jpg</td>\n",
              "      <td>14</td>\n",
              "      <td>36</td>\n",
              "      <td>133</td>\n",
              "      <td>99</td>\n",
              "      <td>106</td>\n",
              "      <td>Ford F-450 Super Duty Crew Cab 2012</td>\n",
              "      <td>Ford F-450 Super Duty Crew</td>\n",
              "      <td>Cab</td>\n",
              "      <td>2012</td>\n",
              "      <td>Ford</td>\n",
              "      <td>car_data/car_data/train/Ford F-450 Super Duty Crew Cab 2012/00005.jpg</td>\n",
              "    </tr>\n",
              "  </tbody>\n",
              "</table>\n",
              "</div>"
            ],
            "text/plain": [
              "          0    1    2     3     4    5                                    6   \\\n",
              "0  00001.jpg   39  116   569   375   14                  Audi TTS Coupe 2012   \n",
              "1  00002.jpg   36  116   868   587    3                  Acura TL Sedan 2012   \n",
              "2  00003.jpg   85  109   601   381   91           Dodge Dakota Club Cab 2007   \n",
              "3  00004.jpg  621  393  1484  1096  134     Hyundai Sonata Hybrid Sedan 2012   \n",
              "4  00005.jpg   14   36   133    99  106  Ford F-450 Super Duty Crew Cab 2012   \n",
              "\n",
              "                           7      8     9        10  \\\n",
              "0                    Audi TTS  Coupe  2012     Audi   \n",
              "1                    Acura TL  Sedan  2012    Acura   \n",
              "2           Dodge Dakota Club    Cab  2007    Dodge   \n",
              "3       Hyundai Sonata Hybrid  Sedan  2012  Hyundai   \n",
              "4  Ford F-450 Super Duty Crew    Cab  2012     Ford   \n",
              "\n",
              "                                                                      11  \n",
              "0                  car_data/car_data/train/Audi TTS Coupe 2012/00001.jpg  \n",
              "1                  car_data/car_data/train/Acura TL Sedan 2012/00002.jpg  \n",
              "2           car_data/car_data/train/Dodge Dakota Club Cab 2007/00003.jpg  \n",
              "3     car_data/car_data/train/Hyundai Sonata Hybrid Sedan 2012/00004.jpg  \n",
              "4  car_data/car_data/train/Ford F-450 Super Duty Crew Cab 2012/00005.jpg  "
            ]
          },
          "metadata": {
            "tags": []
          },
          "execution_count": 24
        }
      ]
    },
    {
      "cell_type": "code",
      "metadata": {
        "id": "Si-JHtrYtAQu"
      },
      "source": [
        "def cropImage(index,data):\n",
        "    imagedata = data.iloc[index]\n",
        "    image = load_image(str(imagedata[11]))\n",
        "    image_height, image_width, _ = image.shape\n",
        "    fileName = imagedata[0]\n",
        "    #image = cv2.resize(image, dsize=(IMAGE_HEIGHT, IMAGE_WIDTH), interpolation=cv2.INTER_CUBIC)\n",
        "    x1 = int(imagedata[1])\n",
        "    x2 = int(imagedata[3])\n",
        "    y1 = int(imagedata[2])\n",
        "    y2 = int(imagedata[4])\n",
        "    crop_image = image[y1:y2, x1:x2]\n",
        "    crop_image = cv2.resize(crop_image, dsize=(IMAGE_HEIGHT, IMAGE_WIDTH), interpolation=cv2.INTER_CUBIC)\n",
        "    return crop_image"
      ],
      "execution_count": 25,
      "outputs": []
    },
    {
      "cell_type": "code",
      "metadata": {
        "id": "3d4SXVeMtBbX"
      },
      "source": [
        "def _get_predictions(_model,data):\n",
        "    img = np.expand_dims(data, axis=0)\n",
        "    #print('expanded image',img)\n",
        "    img = preprocess_input(img)\n",
        "    #print('processed image',img)      \n",
        "    return decode_predictions(_model.predict(img), top=3)[0]"
      ],
      "execution_count": 26,
      "outputs": []
    },
    {
      "cell_type": "code",
      "metadata": {
        "colab": {
          "base_uri": "https://localhost:8080/"
        },
        "id": "TEeIYnbltGgY",
        "outputId": "23f00e92-1f6d-473b-96cd-ba453c11340e"
      },
      "source": [
        "IMAGE_HEIGHT = 224\n",
        "IMAGE_WIDTH = 224\n",
        "preds_train = []\n",
        "for i in range(Train_data[0].size):\n",
        "    preds_train.append(_get_predictions(vgg16_model,cropImage(i,Train_data)))\n",
        "    if(i%500==0):\n",
        "        print(\"pending images\",(Train_data[0].size-i))"
      ],
      "execution_count": null,
      "outputs": [
        {
          "output_type": "stream",
          "text": [
            "Downloading data from https://storage.googleapis.com/download.tensorflow.org/data/imagenet_class_index.json\n",
            "40960/35363 [==================================] - 0s 0us/step\n",
            "pending images 8144\n",
            "pending images 7644\n",
            "pending images 7144\n",
            "pending images 6644\n",
            "pending images 6144\n",
            "pending images 5644\n",
            "pending images 5144\n",
            "pending images 4644\n",
            "pending images 4144\n",
            "pending images 3644\n",
            "pending images 3144\n",
            "pending images 2644\n",
            "pending images 2144\n",
            "pending images 1644\n",
            "pending images 1144\n",
            "pending images 644\n",
            "pending images 144\n"
          ],
          "name": "stdout"
        }
      ]
    },
    {
      "cell_type": "code",
      "metadata": {
        "colab": {
          "base_uri": "https://localhost:8080/",
          "height": 35
        },
        "id": "yyUuJ6BTqX7h",
        "outputId": "28148b6d-3452-4944-f700-90f8f7792325"
      },
      "source": [
        "str(preds_train[0][0][1])"
      ],
      "execution_count": 32,
      "outputs": [
        {
          "output_type": "execute_result",
          "data": {
            "application/vnd.google.colaboratory.intrinsic+json": {
              "type": "string"
            },
            "text/plain": [
              "'sports_car'"
            ]
          },
          "metadata": {
            "tags": []
          },
          "execution_count": 32
        }
      ]
    },
    {
      "cell_type": "code",
      "metadata": {
        "id": "izTDYYh1qrBd"
      },
      "source": [
        "from numpy import asarray\n",
        "from numpy import save\n",
        "save('preds_train.npy', preds_train)"
      ],
      "execution_count": 34,
      "outputs": []
    },
    {
      "cell_type": "code",
      "metadata": {
        "id": "BCdYbpalrB-o"
      },
      "source": [
        "Pred_train_1 = df = pd.DataFrame(preds_train)"
      ],
      "execution_count": 41,
      "outputs": []
    },
    {
      "cell_type": "code",
      "metadata": {
        "colab": {
          "base_uri": "https://localhost:8080/",
          "height": 204
        },
        "id": "PRb15nOJrSGn",
        "outputId": "50d38050-68f2-4c31-91ea-643b71c237a9"
      },
      "source": [
        "Pred_train_1.head(5)"
      ],
      "execution_count": 43,
      "outputs": [
        {
          "output_type": "execute_result",
          "data": {
            "text/html": [
              "<div>\n",
              "<style scoped>\n",
              "    .dataframe tbody tr th:only-of-type {\n",
              "        vertical-align: middle;\n",
              "    }\n",
              "\n",
              "    .dataframe tbody tr th {\n",
              "        vertical-align: top;\n",
              "    }\n",
              "\n",
              "    .dataframe thead th {\n",
              "        text-align: right;\n",
              "    }\n",
              "</style>\n",
              "<table border=\"1\" class=\"dataframe\">\n",
              "  <thead>\n",
              "    <tr style=\"text-align: right;\">\n",
              "      <th></th>\n",
              "      <th>0</th>\n",
              "      <th>1</th>\n",
              "      <th>2</th>\n",
              "    </tr>\n",
              "  </thead>\n",
              "  <tbody>\n",
              "    <tr>\n",
              "      <th>0</th>\n",
              "      <td>(n04285008, sports_car, 0.184406)</td>\n",
              "      <td>(n03100240, convertible, 0.13426176)</td>\n",
              "      <td>(n03459775, grille, 0.083962955)</td>\n",
              "    </tr>\n",
              "    <tr>\n",
              "      <th>1</th>\n",
              "      <td>(n03770679, minivan, 0.75521624)</td>\n",
              "      <td>(n02814533, beach_wagon, 0.03903571)</td>\n",
              "      <td>(n03445924, golfcart, 0.03608048)</td>\n",
              "    </tr>\n",
              "    <tr>\n",
              "      <th>2</th>\n",
              "      <td>(n03930630, pickup, 0.94863075)</td>\n",
              "      <td>(n04461696, tow_truck, 0.016081799)</td>\n",
              "      <td>(n03770679, minivan, 0.009046149)</td>\n",
              "    </tr>\n",
              "    <tr>\n",
              "      <th>3</th>\n",
              "      <td>(n03100240, convertible, 0.3730391)</td>\n",
              "      <td>(n03930630, pickup, 0.20601311)</td>\n",
              "      <td>(n03459775, grille, 0.15916911)</td>\n",
              "    </tr>\n",
              "    <tr>\n",
              "      <th>4</th>\n",
              "      <td>(n03670208, limousine, 0.43004107)</td>\n",
              "      <td>(n04461696, tow_truck, 0.08250459)</td>\n",
              "      <td>(n04285008, sports_car, 0.07780962)</td>\n",
              "    </tr>\n",
              "  </tbody>\n",
              "</table>\n",
              "</div>"
            ],
            "text/plain": [
              "                                     0                                     1  \\\n",
              "0    (n04285008, sports_car, 0.184406)  (n03100240, convertible, 0.13426176)   \n",
              "1     (n03770679, minivan, 0.75521624)  (n02814533, beach_wagon, 0.03903571)   \n",
              "2      (n03930630, pickup, 0.94863075)   (n04461696, tow_truck, 0.016081799)   \n",
              "3  (n03100240, convertible, 0.3730391)       (n03930630, pickup, 0.20601311)   \n",
              "4   (n03670208, limousine, 0.43004107)    (n04461696, tow_truck, 0.08250459)   \n",
              "\n",
              "                                     2  \n",
              "0     (n03459775, grille, 0.083962955)  \n",
              "1    (n03445924, golfcart, 0.03608048)  \n",
              "2    (n03770679, minivan, 0.009046149)  \n",
              "3      (n03459775, grille, 0.15916911)  \n",
              "4  (n04285008, sports_car, 0.07780962)  "
            ]
          },
          "metadata": {
            "tags": []
          },
          "execution_count": 43
        }
      ]
    },
    {
      "cell_type": "code",
      "metadata": {
        "colab": {
          "base_uri": "https://localhost:8080/"
        },
        "id": "dk62T1eEr7ej",
        "outputId": "7aebd15c-14ea-46fd-f266-bda5c920927c"
      },
      "source": [
        "Labels_1 = []\n",
        "Labels_2 = []\n",
        "Labels_3 = []\n",
        "for i, row in Pred_train_1.iterrows():\n",
        " Labels_1.append(row[0][1])\n",
        " Labels_2.append(row[1][1])\n",
        " Labels_3.append(row[2][1])\n",
        "Labels_1[0:10]"
      ],
      "execution_count": 81,
      "outputs": [
        {
          "output_type": "execute_result",
          "data": {
            "text/plain": [
              "['sports_car',\n",
              " 'minivan',\n",
              " 'pickup',\n",
              " 'convertible',\n",
              " 'limousine',\n",
              " 'minibus',\n",
              " 'minivan',\n",
              " 'sports_car',\n",
              " 'minivan',\n",
              " 'minivan']"
            ]
          },
          "metadata": {
            "tags": []
          },
          "execution_count": 81
        }
      ]
    },
    {
      "cell_type": "code",
      "metadata": {
        "colab": {
          "base_uri": "https://localhost:8080/"
        },
        "id": "mdAcx3H2t28C",
        "outputId": "b3091e35-0f02-4bf3-91dd-e1662352f36d"
      },
      "source": [
        "Labels_2[0:10]"
      ],
      "execution_count": 64,
      "outputs": [
        {
          "output_type": "execute_result",
          "data": {
            "text/plain": [
              "['convertible',\n",
              " 'beach_wagon',\n",
              " 'tow_truck',\n",
              " 'pickup',\n",
              " 'tow_truck',\n",
              " 'pickup',\n",
              " 'police_van',\n",
              " 'racer',\n",
              " 'beach_wagon',\n",
              " 'minibus']"
            ]
          },
          "metadata": {
            "tags": []
          },
          "execution_count": 64
        }
      ]
    },
    {
      "cell_type": "code",
      "metadata": {
        "colab": {
          "base_uri": "https://localhost:8080/"
        },
        "id": "NeLDXC0UuKc1",
        "outputId": "82308d7d-1c10-47e1-9359-dae43c115612"
      },
      "source": [
        "Labels_1_Values, Labels_1_Counts = np.unique(Labels_1, return_counts=True)\n",
        "\n",
        "print(Labels_1_Values[1:5])\n",
        "print(Labels_1_Counts[1:5])\n",
        "print(len(Labels_1_Values))"
      ],
      "execution_count": 67,
      "outputs": [
        {
          "output_type": "stream",
          "text": [
            "['ambulance' 'amphibian' 'ashcan' 'beach_wagon']\n",
            "[ 13   2   1 480]\n",
            "46\n"
          ],
          "name": "stdout"
        }
      ]
    },
    {
      "cell_type": "code",
      "metadata": {
        "id": "8DclyeZ0uzeN"
      },
      "source": [
        "Labels_2_Values, Labels_2_Counts = np.unique(Labels_2, return_counts=True)"
      ],
      "execution_count": 69,
      "outputs": []
    },
    {
      "cell_type": "code",
      "metadata": {
        "id": "ANpVSKtguzni"
      },
      "source": [
        "Labels_3_Values, Labels_3_Counts = np.unique(Labels_3, return_counts=True)"
      ],
      "execution_count": 68,
      "outputs": []
    },
    {
      "cell_type": "code",
      "metadata": {
        "colab": {
          "base_uri": "https://localhost:8080/"
        },
        "id": "H37B8g02wWAI",
        "outputId": "543d5fc6-80e1-4172-e263-85b147327f38"
      },
      "source": [
        "Labels_1 = pd.DataFrame(Labels_1)\n",
        "Labels_1.shape"
      ],
      "execution_count": 82,
      "outputs": [
        {
          "output_type": "execute_result",
          "data": {
            "text/plain": [
              "(8144, 1)"
            ]
          },
          "metadata": {
            "tags": []
          },
          "execution_count": 82
        }
      ]
    },
    {
      "cell_type": "code",
      "metadata": {
        "colab": {
          "base_uri": "https://localhost:8080/",
          "height": 603
        },
        "id": "-ci2_aP_u4zC",
        "outputId": "d25a77ad-9922-472d-cf9f-36318ad093fa"
      },
      "source": [
        "\n",
        "sns.set_style('whitegrid')\n",
        "a4_dims = (30, 10)\n",
        "fig, ax = plt.subplots(figsize=a4_dims)\n",
        "sns.countplot(x=Labels_1[0],data=Labels_1, palette='YlGnBu_r',order=Labels_1[0].value_counts().index)\n",
        "plt.xticks(rotation = 90)\n",
        "plt.show()\n",
        "plt.show()"
      ],
      "execution_count": 88,
      "outputs": [
        {
          "output_type": "display_data",
          "data": {
            "image/png": "[encoded data removed]",
            "text/plain": [
              "<Figure size 2160x720 with 1 Axes>"
            ]
          },
          "metadata": {
            "tags": []
          }
        }
      ]
    },
    {
      "cell_type": "code",
      "metadata": {
        "colab": {
          "base_uri": "https://localhost:8080/"
        },
        "id": "ohCgja63yR1U",
        "outputId": "93b5039e-c345-42eb-81d9-fe5b9753d57f"
      },
      "source": [
        "testMetaData = load_metadata('car_data/car_data/test/')\n",
        "print(testMetaData.shape)\n",
        "testMetaDataEnriched=extract_file_path(testMetaData)\n",
        "print(testMetaDataEnriched.shape)\n",
        "test_data = prepare_annotation_data(test_data,data_labels,testMetaDataEnriched)\n",
        "print(test_data.shape)"
      ],
      "execution_count": 91,
      "outputs": [
        {
          "output_type": "stream",
          "text": [
            "(8041,)\n",
            "(8041, 3)\n",
            "(8041, 12)\n"
          ],
          "name": "stdout"
        }
      ]
    },
    {
      "cell_type": "code",
      "metadata": {
        "colab": {
          "base_uri": "https://localhost:8080/"
        },
        "id": "BBZsQG2AxunT",
        "outputId": "a338bf4e-43e0-4a01-b8c7-6e6747511f68"
      },
      "source": [
        "IMAGE_HEIGHT = 224\n",
        "IMAGE_WIDTH = 224\n",
        "preds_test = []\n",
        "for i in range(test_data[0].size):\n",
        "    preds_train.append(_get_predictions(vgg16_model,cropImage(i,test_data)))\n",
        "    if(i%500==0):\n",
        "        print(\"pending images\",(test_data[0].size-i))\n",
        "save('preds_test.npy', preds_test)"
      ],
      "execution_count": null,
      "outputs": [
        {
          "output_type": "stream",
          "text": [
            "pending images 8041\n"
          ],
          "name": "stdout"
        }
      ]
    }
  ]
}