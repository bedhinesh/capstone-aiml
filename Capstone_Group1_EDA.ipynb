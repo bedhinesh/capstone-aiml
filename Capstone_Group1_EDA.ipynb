{
  "nbformat": 4,
  "nbformat_minor": 0,
  "metadata": {
    "colab": {
      "name": "Capstone_Group1_EDA.ipynb",
      "provenance": [],
      "authorship_tag": "ABX9TyO/i6L8/y73+ILfNpPNrywM",
      "include_colab_link": true
    },
    "kernelspec": {
      "name": "python3",
      "display_name": "Python 3"
    },
    "language_info": {
      "name": "python"
    }
  },
  "cells": [
    {
      "cell_type": "markdown",
      "metadata": {
        "id": "view-in-github",
        "colab_type": "text"
      },
      "source": [
        "<a href=\"https://colab.research.google.com/github/bedhinesh/capstone-aiml/blob/main/Capstone_Group1_EDA.ipynb\" target=\"_parent\"><img src=\"https://colab.research.google.com/assets/colab-badge.svg\" alt=\"Open In Colab\"/></a>"
      ]
    },
    {
      "cell_type": "code",
      "metadata": {
        "id": "1FLPfANsntpm"
      },
      "source": [
        "#Import Libraries\n",
        "# Ignore the warnings\n",
        "import warnings\n",
        "warnings.filterwarnings(\"ignore\")\n",
        "\n",
        "# Initialize the random number generator\n",
        "import random\n",
        "random.seed(0)\n",
        "\n",
        "#Tensor Flow\n",
        "import tensorflow\n",
        "tensorflow.__version__\n",
        "\n",
        "#Matplot\n",
        "import matplotlib.pyplot as plt\n",
        "import matplotlib.patches as patches\n",
        "import seaborn as sns\n",
        "%matplotlib inline\n",
        "\n",
        "#Importing drive\n",
        "from google.colab import drive\n",
        "#OS\n",
        "import os\n",
        "#Numpy\n",
        "import numpy as np\n",
        "#Pandas\n",
        "import pandas as pd\n",
        "from wordcloud import WordCloud\n",
        "\n",
        "#CV2\n",
        "import cv2\n",
        "\n",
        "#Image data Generator\n",
        "from tensorflow.keras.preprocessing.image import ImageDataGenerator\n",
        "\n",
        "import imgaug as ia\n",
        "from imgaug import augmenters as iaa"
      ],
      "execution_count": 1,
      "outputs": []
    },
    {
      "cell_type": "code",
      "metadata": {
        "colab": {
          "base_uri": "https://localhost:8080/"
        },
        "id": "wUn9K2abnzM4",
        "outputId": "c2a503ee-de1b-4809-d481-d51431ccf653"
      },
      "source": [
        "#Mount Drive\n",
        "drive.mount('/content/gdrive')"
      ],
      "execution_count": 2,
      "outputs": [
        {
          "output_type": "stream",
          "text": [
            "Mounted at /content/gdrive\n"
          ],
          "name": "stdout"
        }
      ]
    },
    {
      "cell_type": "code",
      "metadata": {
        "colab": {
          "base_uri": "https://localhost:8080/"
        },
        "id": "0OmASI_Wn1XY",
        "outputId": "94f5fea9-cf32-4803-8676-5902c40a2d67"
      },
      "source": [
        "os.environ['KAGGLE_CONFIG_DIR'] = \"/content/gdrive/My Drive/kaggle\"\n",
        "project_path = '/content/drive/My Drive/kaggle/'\n",
        "%cd /content/gdrive/My Drive/kaggle"
      ],
      "execution_count": 3,
      "outputs": [
        {
          "output_type": "stream",
          "text": [
            "/content/gdrive/My Drive/kaggle\n"
          ],
          "name": "stdout"
        }
      ]
    }
  ]
}